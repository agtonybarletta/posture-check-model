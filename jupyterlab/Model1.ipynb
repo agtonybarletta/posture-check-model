{
 "cells": [
  {
   "cell_type": "code",
   "execution_count": 23,
   "id": "8ab5b914-6f14-4ad3-ad7a-654722c2d726",
   "metadata": {},
   "outputs": [],
   "source": [
    "# This notebook is used to generate Model 1 of posture check\n",
    "# Model 1 is mobile net with first few convlutional layers fixed\n",
    "# and three output classed ( posture_ok, posture_not_ok, undefined )"
   ]
  },
  {
   "cell_type": "code",
   "execution_count": 24,
   "id": "7075db8e-5c51-4caf-8736-72ae63ba0c2c",
   "metadata": {},
   "outputs": [],
   "source": [
    "import sys\n",
    "import keras\n",
    "from keras import backend as K\n",
    "from keras.layers import Dense, Activation\n",
    "from keras.optimizers import Adam\n",
    "from keras.metrics import categorical_crossentropy\n",
    "from keras.preprocessing.image import ImageDataGenerator\n",
    "# from keras.preprocessing import image\n",
    "import keras.utils as image\n",
    "from keras.models import Model\n",
    "from keras.applications import imagenet_utils\n",
    "from keras.layers import Dense,GlobalAveragePooling2D\n",
    "from keras.applications import MobileNet\n",
    "from keras.applications.mobilenet import preprocess_input\n",
    "import tensorflow as tf\n",
    "\n",
    "from tensorflow.keras.layers.experimental import preprocessing"
   ]
  },
  {
   "cell_type": "code",
   "execution_count": 25,
   "id": "7ed62b40-3537-4299-a2c0-d9b05a06de18",
   "metadata": {},
   "outputs": [],
   "source": [
    "model_path='models/model1.keras'"
   ]
  },
  {
   "cell_type": "code",
   "execution_count": 26,
   "id": "2cb021bc-9355-4004-b32c-7af35d29cb79",
   "metadata": {},
   "outputs": [],
   "source": [
    "base_model=MobileNet(weights='imagenet',include_top=False, input_shape=(224, 224, 3)) #imports the mobilenet model and discards the last 1000 neuron layer.\n",
    "\n",
    "x=base_model.output\n",
    "x=GlobalAveragePooling2D()(x)\n",
    "x=Dense(1024,activation='relu')(x) #we add dense layers so that the model can learn more complex functions and classify for better results.\n",
    "x=Dense(1024,activation='relu')(x) #dense layer 2\n",
    "x=Dense(512,activation='relu')(x) #dense layer 3\n",
    "preds=Dense(3,activation='softmax')(x) #final layer with softmax activation\n",
    "model1=Model(inputs=base_model.input,outputs=preds)"
   ]
  },
  {
   "cell_type": "code",
   "execution_count": 27,
   "id": "150b57c4-e27a-45cf-9e37-30d79e8be2b9",
   "metadata": {},
   "outputs": [],
   "source": [
    "for layer in model1.layers:\n",
    "    layer.trainable=False\n",
    "# or if we want to set the first 20 layers of the network to be non-trainable\n",
    "for layer in model1.layers[:20]:\n",
    "    layer.trainable=False\n",
    "for layer in model1.layers[20:]:\n",
    "    layer.trainable=True"
   ]
  },
  {
   "cell_type": "code",
   "execution_count": 1,
   "id": "07f97f65-e57f-4756-9ef9-55382d18e27b",
   "metadata": {},
   "outputs": [],
   "source": [
    "#print(model1.summary())"
   ]
  },
  {
   "cell_type": "code",
   "execution_count": null,
   "id": "5b24590c-aeb3-4ba4-a142-d7c29344b08a",
   "metadata": {},
   "outputs": [],
   "source": []
  },
  {
   "cell_type": "code",
   "execution_count": 29,
   "id": "e23881f5-0b47-4990-bc5b-6facc4e7bb70",
   "metadata": {},
   "outputs": [],
   "source": [
    "model1.compile(optimizer='Adam',loss='categorical_crossentropy',metrics=['accuracy'])"
   ]
  },
  {
   "cell_type": "code",
   "execution_count": 30,
   "id": "cdf21f5c-f812-4b6d-b668-8e375fee7027",
   "metadata": {},
   "outputs": [],
   "source": [
    "model1.save(model_path)"
   ]
  },
  {
   "cell_type": "code",
   "execution_count": 31,
   "id": "1535eecd-e584-4a4e-9dce-1d2f2f438245",
   "metadata": {},
   "outputs": [
    {
     "name": "stderr",
     "output_type": "stream",
     "text": [
      "WARNING:absl:Skipping variable loading for optimizer 'Adam', because it has 143 variables whereas the saved optimizer has 1 variables. \n"
     ]
    }
   ],
   "source": [
    "reconstructed_model = keras.models.load_model(model_path)"
   ]
  },
  {
   "cell_type": "code",
   "execution_count": 2,
   "id": "f1284a97-5d2a-4f6c-822f-b1bc401253e8",
   "metadata": {},
   "outputs": [],
   "source": [
    "#print(reconstructed_model.summary())"
   ]
  },
  {
   "cell_type": "code",
   "execution_count": null,
   "id": "04780f2d-5958-40eb-8ea2-37fcf60b7765",
   "metadata": {},
   "outputs": [],
   "source": []
  }
 ],
 "metadata": {
  "kernelspec": {
   "display_name": "Python 3 (ipykernel)",
   "language": "python",
   "name": "python3"
  },
  "language_info": {
   "codemirror_mode": {
    "name": "ipython",
    "version": 3
   },
   "file_extension": ".py",
   "mimetype": "text/x-python",
   "name": "python",
   "nbconvert_exporter": "python",
   "pygments_lexer": "ipython3",
   "version": "3.11.5"
  }
 },
 "nbformat": 4,
 "nbformat_minor": 5
}
